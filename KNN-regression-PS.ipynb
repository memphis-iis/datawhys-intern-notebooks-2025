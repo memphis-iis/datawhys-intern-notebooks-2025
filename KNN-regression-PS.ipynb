{
 "cells": [
  {
   "cell_type": "markdown",
   "metadata": {
    "deletable": false,
    "editable": false
   },
   "source": [
    "Copyright 2020 Andrew M. Olney and made available under [CC BY-SA](https://creativecommons.org/licenses/by-sa/4.0) for text and [Apache-2.0](http://www.apache.org/licenses/LICENSE-2.0) for code.\n"
   ]
  },
  {
   "cell_type": "markdown",
   "metadata": {},
   "source": [
    "# $K$-Nearest Neighbor Regression: Problem solving"
   ]
  },
  {
   "cell_type": "markdown",
   "metadata": {},
   "source": [
    "In this session, we will look at another dataset, `mpg`, that examines the performance of cars from the 1970s.\n",
    "The variables in it are:\n",
    "\n",
    "| Variable | Description                              |\n",
    "|----------|:------------------------------------------|\n",
    "| mpg      | Miles/(US) gallon                        |\n",
    "| cyl      | Number of cylinders                      |\n",
    "| disp     | Displacement (cu.in.)                    |\n",
    "| hp       | Gross horsepower                         |\n",
    "| drat     | Rear axle ratio                          |\n",
    "| wt       | Weight (1000 lbs)                        |\n",
    "| qsec     | 1/4 mile time                            |\n",
    "| vs       | Engine (0 = V-shaped, 1 = straight)      |\n",
    "| am       | Transmission (0 = automatic, 1 = manual) |\n",
    "| gear     | Number of forward gears                  |\n",
    "| carb     | Number of carburetors                    | \n",
    "| **name**     | **Name of car model**|\n",
    "\n",
    "<div style=\"text-align:center;font-size: smaller\">\n",
    "    <b>Source:</b> This dataset was taken from the StatLib library which is maintained at Carnegie Mellon University.\n",
    "</div>"
   ]
  },
  {
   "cell_type": "markdown",
   "metadata": {},
   "source": [
    "The last variable, `name` is not data but rather an ID.\n",
    "\n",
    "For this session, we are interested in predicting `mpg`.\n",
    "\n",
    "**QUESTION:**\n",
    "\n",
    "What makes name an ID?"
   ]
  },
  {
   "cell_type": "markdown",
   "metadata": {},
   "source": [
    "**ANSWER: (click here to edit)**\n",
    "\n\n<hr>"
   ]
  },
  {
   "cell_type": "markdown",
   "metadata": {},
   "source": [
    "## Load the data\n",
    "\n",
    "Start by importing `pandas`."
   ]
  },
  {
   "cell_type": "code",
   "execution_count": 1,
   "metadata": {},
   "outputs": [],
   "source": []
  },
  {
   "cell_type": "markdown",
   "metadata": {},
   "source": [
    "Load a dataframe with `\"datasets/mpg-nona.csv\"` but tell `pandas` to treat `name` as an ID.\n",
    "\n",
    "Hint: `read_csv` using the filename and `index_col=\"name\"`."
   ]
  },
  {
   "cell_type": "code",
   "execution_count": 2,
   "metadata": {},
   "outputs": [],
   "source": []
  },
  {
   "cell_type": "markdown",
   "metadata": {},
   "source": [
    "**QUESTION:**\n",
    "\n",
    "If we had kept `name` as a variable, what do you think would have happened?"
   ]
  },
  {
   "cell_type": "markdown",
   "metadata": {},
   "source": [
    "**ANSWER: (click here to edit)**\n",
    "\n\n<hr>"
   ]
  },
  {
   "cell_type": "markdown",
   "metadata": {},
   "source": [
    "## Prepare train/test sets\n",
    "\n",
    "Create a new dataframe without `mpg` (i.e, using `drop`) to use as your `X`."
   ]
  },
  {
   "cell_type": "code",
   "execution_count": 3,
   "metadata": {},
   "outputs": [],
   "source": []
  },
  {
   "cell_type": "markdown",
   "metadata": {},
   "source": [
    "Create a new dataframe with *only* `mpg` to use as your `Y`."
   ]
  },
  {
   "cell_type": "code",
   "execution_count": 4,
   "metadata": {},
   "outputs": [],
   "source": []
  },
  {
   "cell_type": "markdown",
   "metadata": {},
   "source": [
    "The next step is to split `X` and `Y` into train and test sets. \n",
    "\n",
    "First do the import for splitting."
   ]
  },
  {
   "cell_type": "code",
   "execution_count": 5,
   "metadata": {},
   "outputs": [],
   "source": []
  },
  {
   "cell_type": "markdown",
   "metadata": {},
   "source": [
    "Now split the data."
   ]
  },
  {
   "cell_type": "code",
   "execution_count": 6,
   "metadata": {},
   "outputs": [],
   "source": []
  },
  {
   "cell_type": "markdown",
   "metadata": {},
   "source": [
    "## KNN regression model\n",
    "\n",
    "Import the five libraries you need for:\n",
    "\n",
    "- KNN regression\n",
    "- Mean squared error\n",
    "- Ravel\n",
    "- Scale\n",
    "- Pipeline"
   ]
  },
  {
   "cell_type": "code",
   "execution_count": 7,
   "metadata": {},
   "outputs": [],
   "source": []
  },
  {
   "cell_type": "markdown",
   "metadata": {},
   "source": [
    "Create a pipeline with a scaler and KNN regression.\n",
    "Remember we need the scaler to put all our variables on the same scale."
   ]
  },
  {
   "cell_type": "code",
   "execution_count": 8,
   "metadata": {},
   "outputs": [],
   "source": []
  },
  {
   "cell_type": "markdown",
   "metadata": {},
   "source": [
    "Train the KNN regression model using the pipeline (i.e. use `fit`)."
   ]
  },
  {
   "cell_type": "code",
   "execution_count": 9,
   "metadata": {},
   "outputs": [],
   "source": []
  },
  {
   "cell_type": "markdown",
   "metadata": {},
   "source": [
    "Predict the mpg using the test data."
   ]
  },
  {
   "cell_type": "code",
   "execution_count": 10,
   "metadata": {},
   "outputs": [],
   "source": []
  },
  {
   "cell_type": "markdown",
   "metadata": {},
   "source": [
    "## Assessing the model"
   ]
  },
  {
   "cell_type": "markdown",
   "metadata": {},
   "source": [
    "Calculate the RMSE of the predictions."
   ]
  },
  {
   "cell_type": "code",
   "execution_count": 11,
   "metadata": {},
   "outputs": [],
   "source": []
  },
  {
   "cell_type": "markdown",
   "metadata": {},
   "source": [
    "**QUESTION:**\n",
    "\n",
    "What was your rmse?\n",
    "If you redo your splits and retrain the model, does it change?\n",
    "Why?"
   ]
  },
  {
   "cell_type": "markdown",
   "metadata": {},
   "source": [
    "**ANSWER: (click here to edit)**\n",
    "\n\n<hr>"
   ]
  },
  {
   "cell_type": "markdown",
   "metadata": {},
   "source": [
    "## Finding the optimal K"
   ]
  },
  {
   "cell_type": "markdown",
   "metadata": {},
   "source": [
    "Find the optimal K for the model by trying K=1, 10, 25, 50, 100, and 250 in a loop."
   ]
  },
  {
   "cell_type": "code",
   "execution_count": 12,
   "metadata": {},
   "outputs": [],
   "source": []
  },
  {
   "cell_type": "markdown",
   "metadata": {},
   "source": [
    "**QUESTION:**\n",
    "\n",
    "What was your optimal K?"
   ]
  },
  {
   "cell_type": "markdown",
   "metadata": {},
   "source": [
    "**ANSWER: (click here to edit)**\n",
    "\n\n<hr>"
   ]
  },
  {
   "cell_type": "markdown",
   "metadata": {},
   "source": [
    "## Plot the predictions for different values of K"
   ]
  },
  {
   "cell_type": "markdown",
   "metadata": {},
   "source": [
    "**This is very challenging and you might not finish!**\n",
    "\n",
    "First import plotly.graph_objects and create an empty figure."
   ]
  },
  {
   "cell_type": "code",
   "execution_count": 13,
   "metadata": {},
   "outputs": [],
   "source": []
  },
  {
   "cell_type": "markdown",
   "metadata": {},
   "source": [
    "Copy your loop above pasted it below.\n",
    "\n",
    "Then copy your plot blocks where you plotted the data and predictions from the last session and put it inside the loop (adding below the last statement in the loop each time).\n",
    "\n",
    "For your `x=` variable, use `acceleration`.\n",
    "\n",
    "Then add one last block at the bottom of the loop:\n",
    "\n",
    "- Empty freestyle followed by `with fig do show using` (change `fig` to whatever you named your figure variable)\n",
    "\n",
    "This will produce a plot for each of your different levels of K.\n",
    "\n",
    "**Be careful with copy/paste errors. See hints for copying blocks between notebooks on #help.**"
   ]
  },
  {
   "cell_type": "code",
   "execution_count": 14,
   "metadata": {},
   "outputs": [],
   "source": []
  }
 ],
 "metadata": {
  "kernelspec": {
   "display_name": "xpython",
   "language": "python",
   "name": "xpython"
  },
  "language_info": {
   "file_extension": ".py",
   "mimetype": "text/x-python",
   "name": "python",
   "version": "3.7.6"
  }
 },
 "nbformat": 4,
 "nbformat_minor": 4
}
