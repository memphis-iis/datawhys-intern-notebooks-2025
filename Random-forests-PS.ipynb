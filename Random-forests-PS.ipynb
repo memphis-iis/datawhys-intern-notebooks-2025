{
 "cells": [
  {
   "cell_type": "markdown",
   "metadata": {
    "deletable": false,
    "editable": false
   },
   "source": [
    "Copyright 2020 Andrew M. Olney and made available under [CC BY-SA](https://creativecommons.org/licenses/by-sa/4.0) for text and [Apache-2.0](http://www.apache.org/licenses/LICENSE-2.0) for code.\n"
   ]
  },
  {
   "cell_type": "markdown",
   "metadata": {},
   "source": [
    "# Random forests: Problem solving\n",
    "\n",
    "In this session, we'll use the `boston` dataset, which has been used to examine the relationship between clean air and house prices:\n",
    "\n",
    "\n",
    "| Variable | Type | Description |\n",
    "|:----|:-----|:----------|\n",
    "|crim | Ratio | per capita crime rate by town | \n",
    "|zn | Ratio | proportion of residential land zoned for lots over 25,000 sq. ft. | \n",
    "|indus | Ratio | proportion of non-retain business acres per town | \n",
    "|chas | Nominal (binary) | Charles River dummy variable (=1 if tract bounds river, =0 otherwise) | \n",
    "|nox | Ratio | nitrogen oxides concentration (parts per 10 million) | \n",
    "|rm | Ratio | average number of rooms per dwelling | \n",
    "|age | Ratio | proportion of owner-occupied units built prior to 1940 | \n",
    "|dis | Ratio | weighted mean of distances to fie Boston employment centers | \n",
    "|rad | Ordinal | index of accessibility to radial highways | \n",
    "|tax | Ratio | full-value proporty tax rate per \\$10,000 | \n",
    "|ptratio | Ratio | pupil-teacher ratio by town | \n",
    "|lstat | Ratio | percent lower status of population (defined as non-high school graduate, manual labor) | \n",
    "|medv | Ratio | median value of owner-occupied homes in $1000s | \n",
    "\n",
    "<div style=\"text-align:center;font-size: smaller\">\n",
    "    <b>Source:</b> This dataset was taken from the StatLib library which is maintained at Carnegie Mellon University.\n",
    "</div>\n",
    "<br>\n",
    "    \n",
    "As before, we'll try to predict `medv` using the rest of the variables.\n",
    "\n",
    "**Because `medv` is a ratio variable, we will do random forest regression trees not decision trees.**\n",
    "\n",
    "Additionally, we will compare the performance of three models on this problem:\n",
    "\n",
    "- Regression trees\n",
    "- Bagged regression trees\n",
    "- Random forest regression trees"
   ]
  },
  {
   "cell_type": "markdown",
   "metadata": {},
   "source": [
    "## Load data\n",
    "\n",
    "Import `pandas` to load a dataframe."
   ]
  },
  {
   "cell_type": "code",
   "execution_count": 5,
   "metadata": {},
   "outputs": [],
   "source": []
  },
  {
   "cell_type": "markdown",
   "metadata": {},
   "source": [
    "Load the dataframe."
   ]
  },
  {
   "cell_type": "code",
   "execution_count": 6,
   "metadata": {},
   "outputs": [],
   "source": []
  },
  {
   "cell_type": "markdown",
   "metadata": {},
   "source": [
    "## Explore data\n",
    "\n",
    "Some of these steps we've done before with these data, so we'll skip the normal interpretation steps on those parts.\n",
    "\n",
    "Describe the data."
   ]
  },
  {
   "cell_type": "code",
   "execution_count": 7,
   "metadata": {},
   "outputs": [],
   "source": []
  },
  {
   "cell_type": "markdown",
   "metadata": {},
   "source": [
    "Make a correlation heatmap.\n",
    "\n",
    "First import `plotly.express`."
   ]
  },
  {
   "cell_type": "code",
   "execution_count": 8,
   "metadata": {},
   "outputs": [],
   "source": []
  },
  {
   "cell_type": "markdown",
   "metadata": {},
   "source": [
    "Create a correlation matrix."
   ]
  },
  {
   "cell_type": "code",
   "execution_count": 9,
   "metadata": {},
   "outputs": [],
   "source": []
  },
  {
   "cell_type": "markdown",
   "metadata": {},
   "source": [
    "And show the correlation heatmap with row/column labels."
   ]
  },
  {
   "cell_type": "code",
   "execution_count": 10,
   "metadata": {},
   "outputs": [],
   "source": []
  },
  {
   "cell_type": "markdown",
   "metadata": {},
   "source": [
    "Because these variables are highly correlated (an numeric), a scatterplot matrix would make a lot of sense.\n",
    "\n",
    "Use `plotly` to make a `scatter_matrix` of the dataframe.\n",
    "If you have a hard time reading the labels, you can give it something like `width=1000` and `height=1000` to make it bigger."
   ]
  },
  {
   "cell_type": "code",
   "execution_count": 11,
   "metadata": {},
   "outputs": [],
   "source": []
  },
  {
   "cell_type": "markdown",
   "metadata": {},
   "source": [
    "-----------\n",
    "**QUESTION:**\n",
    "\n",
    "Remembering that a perfect correlation is a line, and no correlation is a uniform random scattering of datapoints, what would you say about the pattern of these scatterplots overall?\n",
    "Of the scatterplots in the last row (i.e. correlated with `medv`) in particular?"
   ]
  },
  {
   "cell_type": "markdown",
   "metadata": {},
   "source": [
    "**ANSWER: (click here to edit)**\n",
    "\n\n<hr>"
   ]
  },
  {
   "cell_type": "markdown",
   "metadata": {},
   "source": [
    "Ultimately we want to predict median house value (`medv`), so make a histogram of that."
   ]
  },
  {
   "cell_type": "code",
   "execution_count": 12,
   "metadata": {},
   "outputs": [],
   "source": []
  },
  {
   "cell_type": "markdown",
   "metadata": {},
   "source": [
    "------------------\n",
    "**QUESTION:**\n",
    "\n",
    "Do you think we need to transform `medv` to make it more normal? Why or why not?"
   ]
  },
  {
   "cell_type": "markdown",
   "metadata": {},
   "source": [
    "**ANSWER: (click here to edit)**\n",
    "\n\n<hr>"
   ]
  },
  {
   "cell_type": "markdown",
   "metadata": {},
   "source": [
    "## Prepare train/test sets\n",
    "\n",
    "If we were just using bagging or random forests, we could use OOB performance instead of splitting the data into training and testing sets.\n",
    "\n",
    "However, splitting is necessary if we want to compare to regression trees.\n",
    "\n",
    "Start by dropping the response variable, `medv` to make a new dataframe called `X`.\n",
    "\n",
    "Save a dataframe with just `medv` in `Y`. "
   ]
  },
  {
   "cell_type": "code",
   "execution_count": 13,
   "metadata": {},
   "outputs": [],
   "source": []
  },
  {
   "cell_type": "markdown",
   "metadata": {},
   "source": [
    "Import `sklearn.model_selection` to split the data into train/test sets."
   ]
  },
  {
   "cell_type": "code",
   "execution_count": 14,
   "metadata": {},
   "outputs": [],
   "source": []
  },
  {
   "cell_type": "markdown",
   "metadata": {},
   "source": [
    "And do the actual split."
   ]
  },
  {
   "cell_type": "code",
   "execution_count": 15,
   "metadata": {},
   "outputs": [],
   "source": []
  },
  {
   "cell_type": "markdown",
   "metadata": {},
   "source": [
    "## Fit models\n",
    "\n",
    "Fit three models in turn:\n",
    "\n",
    "- Regression tree\n",
    "- Bagged regression tree\n",
    "- Random forest regression tree\n",
    "\n",
    "Import the `sklearn.tree` and `sklearn.ensemble` libraries."
   ]
  },
  {
   "cell_type": "code",
   "execution_count": 16,
   "metadata": {},
   "outputs": [],
   "source": []
  },
  {
   "cell_type": "markdown",
   "metadata": {},
   "source": [
    "### Regression tree\n",
    "\n",
    "Create the regression tree model.\n",
    "Go ahead and create it with a freestyle `random_state=1` so we all get the same results."
   ]
  },
  {
   "cell_type": "code",
   "execution_count": 17,
   "metadata": {},
   "outputs": [],
   "source": []
  },
  {
   "cell_type": "markdown",
   "metadata": {},
   "source": [
    "Fit the regression tree model and get predictions."
   ]
  },
  {
   "cell_type": "code",
   "execution_count": 18,
   "metadata": {},
   "outputs": [],
   "source": []
  },
  {
   "cell_type": "markdown",
   "metadata": {},
   "source": [
    "### Bagged regression tree\n",
    "\n",
    "Next create the bagged regression tree model by using `BaggingRegressor`.\n",
    "Just as `BaggingClassifier` uses a decision tree by default, `BaggingRegressor` uses a regression tree by default.\n",
    "Use the same parameters as the random forest notebook (e.g. 100 trees, etc)."
   ]
  },
  {
   "cell_type": "code",
   "execution_count": 19,
   "metadata": {},
   "outputs": [],
   "source": []
  },
  {
   "cell_type": "markdown",
   "metadata": {},
   "source": [
    "Interestingly, for this model, `sklearn` requires us to use `ravel` on `Y` when fitting the model, so import `numpy`."
   ]
  },
  {
   "cell_type": "code",
   "execution_count": 20,
   "metadata": {},
   "outputs": [],
   "source": []
  },
  {
   "cell_type": "markdown",
   "metadata": {},
   "source": [
    "Fit the bagged regression tree using `ravel` on `Y` and get predictions."
   ]
  },
  {
   "cell_type": "code",
   "execution_count": 21,
   "metadata": {},
   "outputs": [],
   "source": []
  },
  {
   "cell_type": "markdown",
   "metadata": {},
   "source": [
    "### Random forest regression tree\n",
    "\n",
    "Next create the random forest regression tree model by using `RandomForestRegressor`, which also uses a regression tree by default.\n",
    "Use the same parameters as before."
   ]
  },
  {
   "cell_type": "code",
   "execution_count": 22,
   "metadata": {},
   "outputs": [],
   "source": []
  },
  {
   "cell_type": "markdown",
   "metadata": {},
   "source": [
    "Fit the random forest regression tree using `ravel` on `Y` and get predictions."
   ]
  },
  {
   "cell_type": "code",
   "execution_count": 23,
   "metadata": {},
   "outputs": [],
   "source": []
  },
  {
   "cell_type": "markdown",
   "metadata": {},
   "source": [
    "## Evaluate the models"
   ]
  },
  {
   "cell_type": "markdown",
   "metadata": {},
   "source": [
    "### Regression tree\n",
    "\n",
    "- Get the $r^2$ on the *training* set\n",
    "\n",
    "- Get the $r^2$ on the *testing* set"
   ]
  },
  {
   "cell_type": "code",
   "execution_count": 24,
   "metadata": {},
   "outputs": [],
   "source": []
  },
  {
   "cell_type": "markdown",
   "metadata": {},
   "source": [
    "### Bagged regression tree\n",
    "\n",
    "- Get the $r^2$ on the *training* set\n",
    "\n",
    "- Get the $r^2$ on the *testing* set"
   ]
  },
  {
   "cell_type": "code",
   "execution_count": 25,
   "metadata": {},
   "outputs": [],
   "source": []
  },
  {
   "cell_type": "markdown",
   "metadata": {},
   "source": [
    "### Random forest regression tree\n",
    "\n",
    "- Get the $r^2$ on the *training* set\n",
    "\n",
    "- Get the $r^2$ on the *testing* set"
   ]
  },
  {
   "cell_type": "code",
   "execution_count": 26,
   "metadata": {},
   "outputs": [],
   "source": []
  },
  {
   "cell_type": "markdown",
   "metadata": {},
   "source": [
    "------------------\n",
    "**QUESTION:**\n",
    "\n",
    "Compare the three models with respect to their *training data performance*. Which is better?\n",
    "Now compare the three models with respect to their *testing data performance*. Which is better?\n",
    "What do these differences tell you?"
   ]
  },
  {
   "cell_type": "markdown",
   "metadata": {},
   "source": [
    "**ANSWER: (click here to edit)**\n",
    "\n\n<hr>"
   ]
  },
  {
   "cell_type": "markdown",
   "metadata": {},
   "source": [
    "## Feature importance\n",
    "\n",
    "Calculate the feature importance for the three models and plot it as a `plotly` bar chart.\n",
    "\n",
    "To get the column names for `x=` in the bar chart, you can use `from X get columns` as a shortcut."
   ]
  },
  {
   "cell_type": "markdown",
   "metadata": {},
   "source": [
    "### Regression tree"
   ]
  },
  {
   "cell_type": "code",
   "execution_count": 27,
   "metadata": {},
   "outputs": [],
   "source": []
  },
  {
   "cell_type": "markdown",
   "metadata": {},
   "source": [
    "### Bagged regression tree\n",
    "\n",
    "For some reason, `sklearn` does not implement `feature_importances_` for `BaggingRegressor`, so use the following freestyle for the `y=` part of your plot: \n",
    "\n",
    "`np.mean([ tree.feature_importances_ for tree in baggedRegressionTree.estimators_ ], axis=0)`\n",
    "\n",
    "**You will need to change `baggedRegressionTree` to whatever you called this model above.**"
   ]
  },
  {
   "cell_type": "code",
   "execution_count": 28,
   "metadata": {},
   "outputs": [],
   "source": []
  },
  {
   "cell_type": "markdown",
   "metadata": {},
   "source": [
    "### Random forest regression tree\n",
    "\n",
    "This uses `feature_importances_`, so you can make the plot exactly like you would for the regression tree model."
   ]
  },
  {
   "cell_type": "code",
   "execution_count": 29,
   "metadata": {},
   "outputs": [],
   "source": []
  },
  {
   "cell_type": "markdown",
   "metadata": {},
   "source": [
    "-----------\n",
    "**QUESTION:**\n",
    "\n",
    "Look carefully at the three feature importance plots, hovering your mouse over each bar.\n",
    "What are the major differences between them?"
   ]
  },
  {
   "cell_type": "markdown",
   "metadata": {},
   "source": [
    "**ANSWER: (click here to edit)**\n",
    "\n\n<hr>"
   ]
  },
  {
   "cell_type": "markdown",
   "metadata": {},
   "source": [
    "**QUESTION:**\n",
    "\n",
    "What other tool(s) can you think of that we haven't tried that we could use to compare these models?"
   ]
  },
  {
   "cell_type": "markdown",
   "metadata": {},
   "source": [
    "**ANSWER: (click here to edit)**\n",
    "\n\n<hr>"
   ]
  },
  {
   "cell_type": "markdown",
   "metadata": {},
   "source": [
    "<!--  -->"
   ]
  }
 ],
 "metadata": {
  "kernelspec": {
   "display_name": "xpython",
   "language": "python",
   "name": "xpython"
  },
  "language_info": {
   "file_extension": ".py",
   "mimetype": "text/x-python",
   "name": "python",
   "version": "3.7.6"
  }
 },
 "nbformat": 4,
 "nbformat_minor": 4
}
