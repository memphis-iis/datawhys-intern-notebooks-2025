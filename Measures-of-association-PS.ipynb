{
 "cells": [
  {
   "cell_type": "markdown",
   "metadata": {},
   "source": [
    "Copyright 2020 Andrew M. Olney, Dale Bowman and made available under [CC BY-SA](https://creativecommons.org/licenses/by-sa/4.0) for text and [Apache-2.0](http://www.apache.org/licenses/LICENSE-2.0) for code."
   ]
  },
  {
   "cell_type": "markdown",
   "metadata": {
    "deletable": false,
    "editable": false
   },
   "source": [
    "# Measures of association: Problem solving\n",
    "\n",
    "In this session we will take a closer look at the relationship between scatterplots and correlation matrices across several datasets.\n",
    "\n",
    "## Import libraries\n",
    "\n",
    "We need to load our data into a dataframe and do some plots, so import `pandas` and `plotly.express` below."
   ]
  },
  {
   "cell_type": "code",
   "execution_count": 1,
   "metadata": {},
   "outputs": [],
   "source": []
  },
  {
   "cell_type": "markdown",
   "metadata": {},
   "source": [
    "## MPG\n",
    "\n",
    "We'll use a new dataset that has the horsepower, MPG, and other features of 1970s cars called `mpg`.\n",
    "\n",
    "Load the CSV file \"datasets/mpg.csv\" into a dataframe."
   ]
  },
  {
   "cell_type": "code",
   "execution_count": 2,
   "metadata": {},
   "outputs": [],
   "source": []
  },
  {
   "cell_type": "markdown",
   "metadata": {},
   "source": [
    "Now create and show a correlation matrix for the `mpg` dataframe."
   ]
  },
  {
   "cell_type": "code",
   "execution_count": 3,
   "metadata": {},
   "outputs": [],
   "source": []
  },
  {
   "cell_type": "markdown",
   "metadata": {},
   "source": [
    "As we stated before, it's a lot easier to see the correlations as a heatmap, especially when there are a lot of them.\n",
    "\n",
    "Create a heatmap with axis labels below."
   ]
  },
  {
   "cell_type": "code",
   "execution_count": 4,
   "metadata": {},
   "outputs": [],
   "source": []
  },
  {
   "cell_type": "markdown",
   "metadata": {},
   "source": [
    "**QUESTION:**\n",
    "\n",
    "Why do you think `acceleration` and `mpg` are positively correlated?"
   ]
  },
  {
   "cell_type": "markdown",
   "metadata": {},
   "source": [
    "**ANSWER: (click here to edit)**\n",
    "\n\n<hr>"
   ]
  },
  {
   "cell_type": "markdown",
   "metadata": {},
   "source": [
    "**QUESTION:**\n",
    "\n",
    "Why do you think `model_year` and `mpg` are positively correlated?"
   ]
  },
  {
   "cell_type": "markdown",
   "metadata": {},
   "source": [
    "**ANSWER: (click here to edit)**\n",
    "\n\n<hr>"
   ]
  },
  {
   "cell_type": "markdown",
   "metadata": {},
   "source": [
    "Here's something we didn't do before, but it's very similar to `plotly` plots we've already done.\n",
    "\n",
    "Create a new figure like you did above for the heatmap, but instead of `imshow` do `scatter_matrix`, and make the 3 things in your `using` list be\n",
    "\n",
    "- Your `mpg` dataframe\n",
    "- `width=1000`\n",
    "- `height=1000`\n",
    "\n",
    "This will create a figure with a matrix of scatterplots, one for each combination of variables in the dataframe."
   ]
  },
  {
   "cell_type": "code",
   "execution_count": 5,
   "metadata": {},
   "outputs": [],
   "source": []
  },
  {
   "cell_type": "markdown",
   "metadata": {},
   "source": [
    "Remember that correlation is a *linear* relationship, so curves and outliers can distort correlations.\n",
    "\n",
    "**QUESTION:**\n",
    "\n",
    "Looking at the scatterplot matrix, which variables have a linear relationship with `mpg`? \n",
    "Which have curved relationships with `mpg`?\n",
    "Which variables have outliers in their scatterplots with `mpg`?"
   ]
  },
  {
   "cell_type": "markdown",
   "metadata": {},
   "source": [
    "**ANSWER: (click here to edit)**\n",
    "\n\n<hr>"
   ]
  },
  {
   "cell_type": "markdown",
   "metadata": {},
   "source": [
    "**QUESTION:**\n",
    "\n",
    "Looking at the scatterplot matrix, which variables have a linear relationship with `cylinders`? \n",
    "Which have curved relationships with `cylinders`?\n",
    "Which variables have outliers in their scatterplots with `cylinders`?"
   ]
  },
  {
   "cell_type": "markdown",
   "metadata": {},
   "source": [
    "**ANSWER: (click here to edit)**\n",
    "\n\n<hr>"
   ]
  },
  {
   "cell_type": "markdown",
   "metadata": {},
   "source": [
    "**QUESTION:**\n",
    "\n",
    "How do the answers to the three questions above change for `displacement`, `horsepower`, and `weight`?"
   ]
  },
  {
   "cell_type": "markdown",
   "metadata": {},
   "source": [
    "**ANSWER: (click here to edit)**\n",
    "\n\n<hr>"
   ]
  },
  {
   "cell_type": "markdown",
   "metadata": {},
   "source": [
    "Now display the correlation matrix for `mpg` again below, so you don't have to scroll up an down as much. \n",
    "You're going to compare the correlation matrix and the scatterplot matrix."
   ]
  },
  {
   "cell_type": "code",
   "execution_count": 6,
   "metadata": {},
   "outputs": [],
   "source": []
  },
  {
   "cell_type": "markdown",
   "metadata": {},
   "source": [
    "**QUESTION:**\n",
    "\n",
    "With respect to the variable `mpg`, what correlations should we be careful with?"
   ]
  },
  {
   "cell_type": "markdown",
   "metadata": {},
   "source": [
    "**ANSWER: (click here to edit)**\n",
    "\n\n<hr>"
   ]
  },
  {
   "cell_type": "markdown",
   "metadata": {},
   "source": [
    "**QUESTION:**\n",
    "\n",
    "Are the associations between these variables and `mpg` likely to be weaker or stronger than the correlations suggest?"
   ]
  },
  {
   "cell_type": "markdown",
   "metadata": {},
   "source": [
    "**ANSWER: (click here to edit)**\n",
    "\n\n<hr>"
   ]
  },
  {
   "cell_type": "markdown",
   "metadata": {},
   "source": [
    "<!--  -->"
   ]
  }
 ],
 "metadata": {
  "kernelspec": {
   "display_name": "xpython",
   "language": "python",
   "name": "xpython"
  },
  "language_info": {
   "file_extension": ".py",
   "mimetype": "text/x-python",
   "name": "python",
   "version": "3.7.6"
  }
 },
 "nbformat": 4,
 "nbformat_minor": 4
}
